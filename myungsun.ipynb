import pandas as pd
import seaborn as sns
import matplotlib.pyplot as plt

#csv 파일 불러오기
df = pd.read_csv('Ecommerce2020_Date.csv', encoding='windows-1252')

# 각 컬럼의 세그먼트 수 계산
segment_counts = {}
for column in df.columns:
    segment_counts[column] = df[column].nunique()

# 결과 출력
print("각 컬럼의 세그먼트 수:")
for column, count in segment_counts.items():
    print(f"{column}: {count}")

# 데이터프레임에서 각 컬럼의 세그먼트 종류와 세그먼트 수 조회
segment_info = {}
for column in df.columns:
    segment_info[column] = {
        'segment_count': df[column].nunique(),
        'segments': df[column].unique().tolist()
    }

# 결과 출력
for column, info in segment_info.items():
    print(f"Column Name: {column}")
    print(f"Segment Count: {info['segment_count']}")
    print(f"Segments: {info['segments']}")
    print()

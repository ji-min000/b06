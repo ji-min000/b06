# 데이터 로드
df=pd.read_csv('C:/Users/wlals/OneDrive/바탕 화면/data/US_202402091601.csv',encoding='ISO-8859-1')

import pycaret.classification
from pycaret.classification import *

# 예측하고자 하는 타겟을 Sub-Category로 지정해 셋업
df_clf = setup(df, target = "Sub-Category",session_id=123)


# 가장 최적인 모델
pred = predict_model(best)

# 최적인 모델인 catboost를 만드는 과정
createc = create_model('catboost')

